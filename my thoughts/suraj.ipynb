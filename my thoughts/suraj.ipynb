{
 "cells": [
  {
   "cell_type": "code",
   "execution_count": 1,
   "id": "a49aa1b6-0322-4262-a9ec-f9936c381b38",
   "metadata": {},
   "outputs": [
    {
     "name": "stdout",
     "output_type": "stream",
     "text": [
      "today i am going to learn actual data science\n"
     ]
    }
   ],
   "source": [
    "print(\"today i am going to learn actual data science\")"
   ]
  },
  {
   "cell_type": "code",
   "execution_count": 3,
   "id": "88ce189e-648e-4dbe-9197-b07a459a2fc7",
   "metadata": {},
   "outputs": [
    {
     "name": "stdout",
     "output_type": "stream",
     "text": [
      "that's why i am very excited today\n"
     ]
    }
   ],
   "source": [
    "print(\"that's why i am very excited today\")"
   ]
  },
  {
   "cell_type": "code",
   "execution_count": 5,
   "id": "0a431164-6c18-42ed-98a2-8c61ade90c0a",
   "metadata": {},
   "outputs": [
    {
     "name": "stdout",
     "output_type": "stream",
     "text": [
      "my name is suraj singh\n"
     ]
    }
   ],
   "source": [
    "print(\"my name is suraj singh\")"
   ]
  },
  {
   "cell_type": "code",
   "execution_count": 7,
   "id": "2fbf3a3a-4862-40f5-97d0-52ba254fe137",
   "metadata": {},
   "outputs": [
    {
     "name": "stdout",
     "output_type": "stream",
     "text": [
      "i am from ballia uttar pradesh\n"
     ]
    }
   ],
   "source": [
    "print(\"i am from ballia uttar pradesh\")"
   ]
  },
  {
   "cell_type": "code",
   "execution_count": 9,
   "id": "f4e4df35-0d19-4b3c-ac89-f9e899437b32",
   "metadata": {},
   "outputs": [
    {
     "name": "stdout",
     "output_type": "stream",
     "text": [
      "let me check my calculation\n"
     ]
    }
   ],
   "source": [
    "print(\"let me check my calculation\")"
   ]
  },
  {
   "cell_type": "code",
   "execution_count": 11,
   "id": "70b741cf-4606-4d77-aaae-30f048747fe3",
   "metadata": {},
   "outputs": [
    {
     "data": {
      "text/plain": [
       "54.75"
      ]
     },
     "execution_count": 11,
     "metadata": {},
     "output_type": "execute_result"
    }
   ],
   "source": [
    "3942/72"
   ]
  },
  {
   "cell_type": "code",
   "execution_count": 13,
   "id": "f44573c6-e245-4cb0-9b58-f441636f0c0f",
   "metadata": {},
   "outputs": [
    {
     "data": {
      "text/plain": [
       "4050"
      ]
     },
     "execution_count": 13,
     "metadata": {},
     "output_type": "execute_result"
    }
   ],
   "source": [
    "54*75"
   ]
  },
  {
   "cell_type": "code",
   "execution_count": 15,
   "id": "30815885-23e8-4c9b-867c-ca5138321d35",
   "metadata": {},
   "outputs": [
    {
     "data": {
      "text/plain": [
       "8882"
      ]
     },
     "execution_count": 15,
     "metadata": {},
     "output_type": "execute_result"
    }
   ],
   "source": [
    "4050+4832"
   ]
  },
  {
   "cell_type": "markdown",
   "id": "f48cdd1c-8ffc-4b37-aad0-d6897f1e4f5b",
   "metadata": {},
   "source": [
    "i want to enter in data science field.\n",
    "\n",
    "because there are so many thing to learn in this field .\n",
    "\n",
    "and i am the person who always want learn new things."
   ]
  }
 ],
 "metadata": {
  "kernelspec": {
   "display_name": "Python 3 (ipykernel)",
   "language": "python",
   "name": "python3"
  },
  "language_info": {
   "codemirror_mode": {
    "name": "ipython",
    "version": 3
   },
   "file_extension": ".py",
   "mimetype": "text/x-python",
   "name": "python",
   "nbconvert_exporter": "python",
   "pygments_lexer": "ipython3",
   "version": "3.12.4"
  }
 },
 "nbformat": 4,
 "nbformat_minor": 5
}
